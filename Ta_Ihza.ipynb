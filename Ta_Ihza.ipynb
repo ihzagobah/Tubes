{
  "nbformat": 4,
  "nbformat_minor": 0,
  "metadata": {
    "colab": {
      "name": "Ta Ihza.ipynb",
      "provenance": [],
      "authorship_tag": "ABX9TyMgI6NFph3PMQ6IMCpCEjmg",
      "include_colab_link": true
    },
    "kernelspec": {
      "name": "python3",
      "display_name": "Python 3"
    },
    "language_info": {
      "name": "python"
    }
  },
  "cells": [
    {
      "cell_type": "markdown",
      "metadata": {
        "id": "view-in-github",
        "colab_type": "text"
      },
      "source": [
        "<a href=\"https://colab.research.google.com/github/ihzagobah/Tubes/blob/main/Ta_Ihza.ipynb\" target=\"_parent\"><img src=\"https://colab.research.google.com/assets/colab-badge.svg\" alt=\"Open In Colab\"/></a>"
      ]
    },
    {
      "cell_type": "code",
      "metadata": {
        "id": "76gGaoh6hJQF"
      },
      "source": [
        "import keras\n",
        "from keras.layers import Activation, Dense, Dropout, Conv2D, Flatten, MaxPooling2D\n",
        "from keras.models import Sequential\n",
        "from keras.utils import np_utils\n",
        "import librosa\n",
        "import librosa.display\n",
        "import numpy as np\n",
        "import pandas as pd\n",
        "import random\n",
        "import os\n",
        "import csv\n",
        "\n",
        "import warnings\n",
        "warnings.filterwarnings('ignore')"
      ],
      "execution_count": null,
      "outputs": []
    },
    {
      "cell_type": "code",
      "metadata": {
        "colab": {
          "base_uri": "https://localhost:8080/"
        },
        "id": "KDlU6ueXk5Rk",
        "outputId": "d26b8919-f580-4918-e61f-74fd965a6763"
      },
      "source": [
        "from google.colab import drive\n",
        "drive.mount(\"/content/gdrive\")"
      ],
      "execution_count": null,
      "outputs": [
        {
          "output_type": "stream",
          "text": [
            "Mounted at /content/gdrive\n"
          ],
          "name": "stdout"
        }
      ]
    },
    {
      "cell_type": "code",
      "metadata": {
        "colab": {
          "base_uri": "https://localhost:8080/"
        },
        "id": "8u88vnUAk8_C",
        "outputId": "5135e7a4-bb29-4840-b06b-32a90ea4ce3b"
      },
      "source": [
        "!ls \"/content/gdrive/My Drive/sinyal/\""
      ],
      "execution_count": null,
      "outputs": [
        {
          "output_type": "stream",
          "text": [
            "Sinyal_AS  Sinyal_MR  Sinyal_MS  Sinyal_MVP  Sinyal_N\n"
          ],
          "name": "stdout"
        }
      ]
    },
    {
      "cell_type": "code",
      "metadata": {
        "id": "PjIEfkJTmtWs"
      },
      "source": [
        "header = 'filename'\n",
        "header += ' label'\n",
        "header = header.split()"
      ],
      "execution_count": null,
      "outputs": []
    },
    {
      "cell_type": "code",
      "metadata": {
        "id": "a86z1RBwlEKi"
      },
      "source": [
        "file = open('sinyal.csv', 'w', newline='')\n",
        "with file:\n",
        "    writer = csv.writer(file)\n",
        "    writer.writerow(header)\n",
        "genres = 'Sinyal_AS Sinyal_MR Sinyal_MVP Sinyal_N Sinyal_MS'.split()\n",
        "for g in genres:\n",
        "    for filename in os.listdir(f'/content/gdrive/My Drive/sinyal/{g}'):\n",
        "        songname = f'/content/gdrive/My Drive/sinyal/{g}/{filename}'\n",
        "        y, sr = librosa.load(songname, mono=True, duration=1)\n",
        "        to_append = f'{filename}'   \n",
        "        to_append += f' {g}' \n",
        "        file = open('sinyal.csv', 'a', newline='')\n",
        "        with file:\n",
        "            writer = csv.writer(file)\n",
        "            writer.writerow(to_append.split())"
      ],
      "execution_count": null,
      "outputs": []
    },
    {
      "cell_type": "code",
      "metadata": {
        "colab": {
          "base_uri": "https://localhost:8080/",
          "height": 202
        },
        "id": "ckClWWDAltNC",
        "outputId": "f4354d82-3dbc-4767-e92a-7912dcb4215a"
      },
      "source": [
        "data = pd.read_csv('sinyal.csv')\n",
        "data.head()"
      ],
      "execution_count": null,
      "outputs": [
        {
          "output_type": "execute_result",
          "data": {
            "text/html": [
              "<div>\n",
              "<style scoped>\n",
              "    .dataframe tbody tr th:only-of-type {\n",
              "        vertical-align: middle;\n",
              "    }\n",
              "\n",
              "    .dataframe tbody tr th {\n",
              "        vertical-align: top;\n",
              "    }\n",
              "\n",
              "    .dataframe thead th {\n",
              "        text-align: right;\n",
              "    }\n",
              "</style>\n",
              "<table border=\"1\" class=\"dataframe\">\n",
              "  <thead>\n",
              "    <tr style=\"text-align: right;\">\n",
              "      <th></th>\n",
              "      <th>filename</th>\n",
              "      <th>label</th>\n",
              "    </tr>\n",
              "  </thead>\n",
              "  <tbody>\n",
              "    <tr>\n",
              "      <th>0</th>\n",
              "      <td>New_AS_002.wav</td>\n",
              "      <td>Sinyal_AS</td>\n",
              "    </tr>\n",
              "    <tr>\n",
              "      <th>1</th>\n",
              "      <td>New_AS_003.wav</td>\n",
              "      <td>Sinyal_AS</td>\n",
              "    </tr>\n",
              "    <tr>\n",
              "      <th>2</th>\n",
              "      <td>New_AS_004.wav</td>\n",
              "      <td>Sinyal_AS</td>\n",
              "    </tr>\n",
              "    <tr>\n",
              "      <th>3</th>\n",
              "      <td>New_AS_005.wav</td>\n",
              "      <td>Sinyal_AS</td>\n",
              "    </tr>\n",
              "    <tr>\n",
              "      <th>4</th>\n",
              "      <td>New_AS_006.wav</td>\n",
              "      <td>Sinyal_AS</td>\n",
              "    </tr>\n",
              "  </tbody>\n",
              "</table>\n",
              "</div>"
            ],
            "text/plain": [
              "         filename      label\n",
              "0  New_AS_002.wav  Sinyal_AS\n",
              "1  New_AS_003.wav  Sinyal_AS\n",
              "2  New_AS_004.wav  Sinyal_AS\n",
              "3  New_AS_005.wav  Sinyal_AS\n",
              "4  New_AS_006.wav  Sinyal_AS"
            ]
          },
          "metadata": {
            "tags": []
          },
          "execution_count": 6
        }
      ]
    },
    {
      "cell_type": "code",
      "metadata": {
        "colab": {
          "base_uri": "https://localhost:8080/",
          "height": 414
        },
        "id": "PfyqUO03NpOh",
        "outputId": "eb7b6a0a-ef49-40fb-a1b2-181b24b98378"
      },
      "source": [
        "from sklearn.preprocessing import LabelEncoder\n",
        "label = ('Sinyal_AS,Sinyal_MR,Sinyal_MVP,Sinyal_N,Sinyal_MS')\n",
        "le = LabelEncoder()\n",
        "data['classID'] = le.fit_transform(data['label'])\n",
        "data.head(1000)"
      ],
      "execution_count": null,
      "outputs": [
        {
          "output_type": "execute_result",
          "data": {
            "text/html": [
              "<div>\n",
              "<style scoped>\n",
              "    .dataframe tbody tr th:only-of-type {\n",
              "        vertical-align: middle;\n",
              "    }\n",
              "\n",
              "    .dataframe tbody tr th {\n",
              "        vertical-align: top;\n",
              "    }\n",
              "\n",
              "    .dataframe thead th {\n",
              "        text-align: right;\n",
              "    }\n",
              "</style>\n",
              "<table border=\"1\" class=\"dataframe\">\n",
              "  <thead>\n",
              "    <tr style=\"text-align: right;\">\n",
              "      <th></th>\n",
              "      <th>filename</th>\n",
              "      <th>label</th>\n",
              "      <th>classID</th>\n",
              "    </tr>\n",
              "  </thead>\n",
              "  <tbody>\n",
              "    <tr>\n",
              "      <th>0</th>\n",
              "      <td>New_AS_002.wav</td>\n",
              "      <td>Sinyal_AS</td>\n",
              "      <td>0</td>\n",
              "    </tr>\n",
              "    <tr>\n",
              "      <th>1</th>\n",
              "      <td>New_AS_003.wav</td>\n",
              "      <td>Sinyal_AS</td>\n",
              "      <td>0</td>\n",
              "    </tr>\n",
              "    <tr>\n",
              "      <th>2</th>\n",
              "      <td>New_AS_004.wav</td>\n",
              "      <td>Sinyal_AS</td>\n",
              "      <td>0</td>\n",
              "    </tr>\n",
              "    <tr>\n",
              "      <th>3</th>\n",
              "      <td>New_AS_005.wav</td>\n",
              "      <td>Sinyal_AS</td>\n",
              "      <td>0</td>\n",
              "    </tr>\n",
              "    <tr>\n",
              "      <th>4</th>\n",
              "      <td>New_AS_006.wav</td>\n",
              "      <td>Sinyal_AS</td>\n",
              "      <td>0</td>\n",
              "    </tr>\n",
              "    <tr>\n",
              "      <th>...</th>\n",
              "      <td>...</td>\n",
              "      <td>...</td>\n",
              "      <td>...</td>\n",
              "    </tr>\n",
              "    <tr>\n",
              "      <th>995</th>\n",
              "      <td>New_MS_196.wav</td>\n",
              "      <td>Sinyal_MS</td>\n",
              "      <td>2</td>\n",
              "    </tr>\n",
              "    <tr>\n",
              "      <th>996</th>\n",
              "      <td>New_MS_197.wav</td>\n",
              "      <td>Sinyal_MS</td>\n",
              "      <td>2</td>\n",
              "    </tr>\n",
              "    <tr>\n",
              "      <th>997</th>\n",
              "      <td>New_MS_198.wav</td>\n",
              "      <td>Sinyal_MS</td>\n",
              "      <td>2</td>\n",
              "    </tr>\n",
              "    <tr>\n",
              "      <th>998</th>\n",
              "      <td>New_MS_199.wav</td>\n",
              "      <td>Sinyal_MS</td>\n",
              "      <td>2</td>\n",
              "    </tr>\n",
              "    <tr>\n",
              "      <th>999</th>\n",
              "      <td>New_MS_200.wav</td>\n",
              "      <td>Sinyal_MS</td>\n",
              "      <td>2</td>\n",
              "    </tr>\n",
              "  </tbody>\n",
              "</table>\n",
              "<p>1000 rows × 3 columns</p>\n",
              "</div>"
            ],
            "text/plain": [
              "           filename      label  classID\n",
              "0    New_AS_002.wav  Sinyal_AS        0\n",
              "1    New_AS_003.wav  Sinyal_AS        0\n",
              "2    New_AS_004.wav  Sinyal_AS        0\n",
              "3    New_AS_005.wav  Sinyal_AS        0\n",
              "4    New_AS_006.wav  Sinyal_AS        0\n",
              "..              ...        ...      ...\n",
              "995  New_MS_196.wav  Sinyal_MS        2\n",
              "996  New_MS_197.wav  Sinyal_MS        2\n",
              "997  New_MS_198.wav  Sinyal_MS        2\n",
              "998  New_MS_199.wav  Sinyal_MS        2\n",
              "999  New_MS_200.wav  Sinyal_MS        2\n",
              "\n",
              "[1000 rows x 3 columns]"
            ]
          },
          "metadata": {
            "tags": []
          },
          "execution_count": 95
        }
      ]
    },
    {
      "cell_type": "code",
      "metadata": {
        "colab": {
          "base_uri": "https://localhost:8080/",
          "height": 296
        },
        "id": "yniI3ljAl1Mi",
        "outputId": "297fc04f-6a6f-43e6-9e6e-03d2a22bb399"
      },
      "source": [
        "#contoh sinyal MR\n",
        "import matplotlib.pyplot as plt\n",
        "y, sr = librosa.load('/content/gdrive/My Drive/sinyal/Sinyal_MR/New_MR_005.wav',duration=1)\n",
        "plt.figure(figsize=(10,4))\n",
        "plt.subplot(1,1,1)\n",
        "librosa.display.waveplot(y, sr=sr)"
      ],
      "execution_count": null,
      "outputs": [
        {
          "output_type": "execute_result",
          "data": {
            "text/plain": [
              "<matplotlib.collections.PolyCollection at 0x7f58bac87e90>"
            ]
          },
          "metadata": {
            "tags": []
          },
          "execution_count": 8
        },
        {
          "output_type": "display_data",
          "data": {
            "image/png": "[encoded data removed]",
            "text/plain": [
              "<Figure size 720x288 with 1 Axes>"
            ]
          },
          "metadata": {
            "tags": [],
            "needs_background": "light"
          }
        }
      ]
    },
    {
      "cell_type": "code",
      "metadata": {
        "colab": {
          "base_uri": "https://localhost:8080/"
        },
        "id": "Id2qeJEbynL8",
        "outputId": "1f42bb76-772b-43b3-c94d-b4adca2d27a4"
      },
      "source": [
        "y, sr = librosa.load('/content/gdrive/My Drive/sinyal/Sinyal_MR/New_MR_078.wav',duration=1)\n",
        "s1 = librosa.feature.melspectrogram(y=y, sr=sr)\n",
        "s1.shape"
      ],
      "execution_count": null,
      "outputs": [
        {
          "output_type": "execute_result",
          "data": {
            "text/plain": [
              "(128, 44)"
            ]
          },
          "metadata": {
            "tags": []
          },
          "execution_count": 49
        }
      ]
    },
    {
      "cell_type": "code",
      "metadata": {
        "colab": {
          "base_uri": "https://localhost:8080/",
          "height": 296
        },
        "id": "fsL_oCInv-0V",
        "outputId": "38a83335-4839-44b3-cd4c-7ddb9f05b27f"
      },
      "source": [
        "librosa.display.specshow(s1, y_axis='mel', x_axis='time')"
      ],
      "execution_count": null,
      "outputs": [
        {
          "output_type": "execute_result",
          "data": {
            "text/plain": [
              "<matplotlib.collections.QuadMesh at 0x7f58b22b9810>"
            ]
          },
          "metadata": {
            "tags": []
          },
          "execution_count": 14
        },
        {
          "output_type": "display_data",
          "data": {
            "image/png": "[encoded data removed]",
            "text/plain": [
              "<Figure size 432x288 with 1 Axes>"
            ]
          },
          "metadata": {
            "tags": [],
            "needs_background": "light"
          }
        }
      ]
    },
    {
      "cell_type": "code",
      "metadata": {
        "colab": {
          "base_uri": "https://localhost:8080/",
          "height": 296
        },
        "id": "-6V_O1ARwQp_",
        "outputId": "834a2802-aff8-48e7-d3f1-7f51aa39297f"
      },
      "source": [
        "#contoh sinyal N\n",
        "import matplotlib.pyplot as plt\n",
        "y, sr = librosa.load('/content/gdrive/My Drive/sinyal/Sinyal_N/New_N_005.wav',duration=1)\n",
        "plt.figure(figsize=(10,4))\n",
        "plt.subplot(1,1,1)\n",
        "librosa.display.waveplot(y, sr=sr)"
      ],
      "execution_count": null,
      "outputs": [
        {
          "output_type": "execute_result",
          "data": {
            "text/plain": [
              "<matplotlib.collections.PolyCollection at 0x7f58b22f1210>"
            ]
          },
          "metadata": {
            "tags": []
          },
          "execution_count": 11
        },
        {
          "output_type": "display_data",
          "data": {
            "image/png": "[encoded data removed]",
            "text/plain": [
              "<Figure size 720x288 with 1 Axes>"
            ]
          },
          "metadata": {
            "tags": [],
            "needs_background": "light"
          }
        }
      ]
    },
    {
      "cell_type": "code",
      "metadata": {
        "colab": {
          "base_uri": "https://localhost:8080/"
        },
        "id": "JoLUQh0mwnB2",
        "outputId": "b58b7bea-c504-4fa7-86a1-d28b6089e13f"
      },
      "source": [
        "y, sr = librosa.load('/content/gdrive/My Drive/sinyal/Sinyal_N/New_N_005.wav',duration=1)\n",
        "s2 = librosa.feature.melspectrogram(y=y, sr=sr)\n",
        "s2.shape"
      ],
      "execution_count": null,
      "outputs": [
        {
          "output_type": "execute_result",
          "data": {
            "text/plain": [
              "(128, 44)"
            ]
          },
          "metadata": {
            "tags": []
          },
          "execution_count": 15
        }
      ]
    },
    {
      "cell_type": "code",
      "metadata": {
        "colab": {
          "base_uri": "https://localhost:8080/",
          "height": 296
        },
        "id": "-s0wTUJZwz53",
        "outputId": "55649069-3386-4992-c0e0-7cebf8cca5e3"
      },
      "source": [
        "librosa.display.specshow(s2, y_axis='mel', x_axis='time')"
      ],
      "execution_count": null,
      "outputs": [
        {
          "output_type": "execute_result",
          "data": {
            "text/plain": [
              "<matplotlib.collections.QuadMesh at 0x7f58b2223b10>"
            ]
          },
          "metadata": {
            "tags": []
          },
          "execution_count": 16
        },
        {
          "output_type": "display_data",
          "data": {
            "image/png": "[encoded data removed]",
            "text/plain": [
              "<Figure size 432x288 with 1 Axes>"
            ]
          },
          "metadata": {
            "tags": [],
            "needs_background": "light"
          }
        }
      ]
    },
    {
      "cell_type": "code",
      "metadata": {
        "colab": {
          "base_uri": "https://localhost:8080/",
          "height": 202
        },
        "id": "nogqSDOp0Od0",
        "outputId": "1e1a840d-353b-46ad-b747-1a92f8329309"
      },
      "source": [
        "valid_data = data[['filename','label','classID']]\n",
        "valid_data.head()"
      ],
      "execution_count": null,
      "outputs": [
        {
          "output_type": "execute_result",
          "data": {
            "text/html": [
              "<div>\n",
              "<style scoped>\n",
              "    .dataframe tbody tr th:only-of-type {\n",
              "        vertical-align: middle;\n",
              "    }\n",
              "\n",
              "    .dataframe tbody tr th {\n",
              "        vertical-align: top;\n",
              "    }\n",
              "\n",
              "    .dataframe thead th {\n",
              "        text-align: right;\n",
              "    }\n",
              "</style>\n",
              "<table border=\"1\" class=\"dataframe\">\n",
              "  <thead>\n",
              "    <tr style=\"text-align: right;\">\n",
              "      <th></th>\n",
              "      <th>filename</th>\n",
              "      <th>label</th>\n",
              "      <th>classID</th>\n",
              "    </tr>\n",
              "  </thead>\n",
              "  <tbody>\n",
              "    <tr>\n",
              "      <th>0</th>\n",
              "      <td>New_AS_002.wav</td>\n",
              "      <td>Sinyal_AS</td>\n",
              "      <td>0</td>\n",
              "    </tr>\n",
              "    <tr>\n",
              "      <th>1</th>\n",
              "      <td>New_AS_003.wav</td>\n",
              "      <td>Sinyal_AS</td>\n",
              "      <td>0</td>\n",
              "    </tr>\n",
              "    <tr>\n",
              "      <th>2</th>\n",
              "      <td>New_AS_004.wav</td>\n",
              "      <td>Sinyal_AS</td>\n",
              "      <td>0</td>\n",
              "    </tr>\n",
              "    <tr>\n",
              "      <th>3</th>\n",
              "      <td>New_AS_005.wav</td>\n",
              "      <td>Sinyal_AS</td>\n",
              "      <td>0</td>\n",
              "    </tr>\n",
              "    <tr>\n",
              "      <th>4</th>\n",
              "      <td>New_AS_006.wav</td>\n",
              "      <td>Sinyal_AS</td>\n",
              "      <td>0</td>\n",
              "    </tr>\n",
              "  </tbody>\n",
              "</table>\n",
              "</div>"
            ],
            "text/plain": [
              "         filename      label  classID\n",
              "0  New_AS_002.wav  Sinyal_AS        0\n",
              "1  New_AS_003.wav  Sinyal_AS        0\n",
              "2  New_AS_004.wav  Sinyal_AS        0\n",
              "3  New_AS_005.wav  Sinyal_AS        0\n",
              "4  New_AS_006.wav  Sinyal_AS        0"
            ]
          },
          "metadata": {
            "tags": []
          },
          "execution_count": 17
        }
      ]
    },
    {
      "cell_type": "code",
      "metadata": {
        "colab": {
          "base_uri": "https://localhost:8080/",
          "height": 202
        },
        "id": "ZxA7_9KozppE",
        "outputId": "5d976f9a-d94d-4c03-8f44-d9bc0838f3dd"
      },
      "source": [
        "valid_data['path'] = valid_data['label'].astype('str') + '/' + valid_data['filename'].astype('str')\n",
        "valid_data.head()"
      ],
      "execution_count": null,
      "outputs": [
        {
          "output_type": "execute_result",
          "data": {
            "text/html": [
              "<div>\n",
              "<style scoped>\n",
              "    .dataframe tbody tr th:only-of-type {\n",
              "        vertical-align: middle;\n",
              "    }\n",
              "\n",
              "    .dataframe tbody tr th {\n",
              "        vertical-align: top;\n",
              "    }\n",
              "\n",
              "    .dataframe thead th {\n",
              "        text-align: right;\n",
              "    }\n",
              "</style>\n",
              "<table border=\"1\" class=\"dataframe\">\n",
              "  <thead>\n",
              "    <tr style=\"text-align: right;\">\n",
              "      <th></th>\n",
              "      <th>filename</th>\n",
              "      <th>label</th>\n",
              "      <th>classID</th>\n",
              "      <th>path</th>\n",
              "    </tr>\n",
              "  </thead>\n",
              "  <tbody>\n",
              "    <tr>\n",
              "      <th>0</th>\n",
              "      <td>New_AS_002.wav</td>\n",
              "      <td>Sinyal_AS</td>\n",
              "      <td>0</td>\n",
              "      <td>Sinyal_AS/New_AS_002.wav</td>\n",
              "    </tr>\n",
              "    <tr>\n",
              "      <th>1</th>\n",
              "      <td>New_AS_003.wav</td>\n",
              "      <td>Sinyal_AS</td>\n",
              "      <td>0</td>\n",
              "      <td>Sinyal_AS/New_AS_003.wav</td>\n",
              "    </tr>\n",
              "    <tr>\n",
              "      <th>2</th>\n",
              "      <td>New_AS_004.wav</td>\n",
              "      <td>Sinyal_AS</td>\n",
              "      <td>0</td>\n",
              "      <td>Sinyal_AS/New_AS_004.wav</td>\n",
              "    </tr>\n",
              "    <tr>\n",
              "      <th>3</th>\n",
              "      <td>New_AS_005.wav</td>\n",
              "      <td>Sinyal_AS</td>\n",
              "      <td>0</td>\n",
              "      <td>Sinyal_AS/New_AS_005.wav</td>\n",
              "    </tr>\n",
              "    <tr>\n",
              "      <th>4</th>\n",
              "      <td>New_AS_006.wav</td>\n",
              "      <td>Sinyal_AS</td>\n",
              "      <td>0</td>\n",
              "      <td>Sinyal_AS/New_AS_006.wav</td>\n",
              "    </tr>\n",
              "  </tbody>\n",
              "</table>\n",
              "</div>"
            ],
            "text/plain": [
              "         filename      label  classID                      path\n",
              "0  New_AS_002.wav  Sinyal_AS        0  Sinyal_AS/New_AS_002.wav\n",
              "1  New_AS_003.wav  Sinyal_AS        0  Sinyal_AS/New_AS_003.wav\n",
              "2  New_AS_004.wav  Sinyal_AS        0  Sinyal_AS/New_AS_004.wav\n",
              "3  New_AS_005.wav  Sinyal_AS        0  Sinyal_AS/New_AS_005.wav\n",
              "4  New_AS_006.wav  Sinyal_AS        0  Sinyal_AS/New_AS_006.wav"
            ]
          },
          "metadata": {
            "tags": []
          },
          "execution_count": 18
        }
      ]
    },
    {
      "cell_type": "code",
      "metadata": {
        "id": "jubKmNQUywg8"
      },
      "source": [
        "D = [] #dataset\n",
        "\n",
        "for row in valid_data.itertuples():\n",
        "    y, sr = librosa.load('/content/gdrive/My Drive/sinyal/' + row.path, duration=1)\n",
        "    ps = librosa.feature.melspectrogram(y=y, sr=sr)\n",
        "    if ps.shape != (128, 44): continue\n",
        "    D.append((ps, row.classID))"
      ],
      "execution_count": null,
      "outputs": []
    },
    {
      "cell_type": "code",
      "metadata": {
        "colab": {
          "base_uri": "https://localhost:8080/"
        },
        "id": "G8YdjNnj1Wt7",
        "outputId": "36a731bf-42d2-40b1-9b01-17f7cfbc11e0"
      },
      "source": [
        "print(\"jumlah sample :\", len(D))"
      ],
      "execution_count": null,
      "outputs": [
        {
          "output_type": "stream",
          "text": [
            "jumlah sample : 1000\n"
          ],
          "name": "stdout"
        }
      ]
    },
    {
      "cell_type": "code",
      "metadata": {
        "id": "nTewM0vn4gg8"
      },
      "source": [
        "dataset = D\n",
        "random.shuffle(dataset)\n",
        "\n",
        "train = dataset[:800]\n",
        "test = dataset[800:]\n",
        "\n",
        "x_train, y_train = zip(*train)\n",
        "x_test, y_test = zip(*test)\n",
        "\n",
        "#reshape untuk input cnn\n",
        "x_train = np.array([x.reshape( (128,44,1)) for x in x_train])\n",
        "x_test = np.array([x.reshape( (128,44,1)) for x in x_test])\n",
        "\n",
        "#one-hot encoding\n",
        "y_train = np_utils.to_categorical(y_train,5)\n",
        "y_test = np_utils.to_categorical(y_test,5)"
      ],
      "execution_count": null,
      "outputs": []
    },
    {
      "cell_type": "code",
      "metadata": {
        "colab": {
          "base_uri": "https://localhost:8080/"
        },
        "id": "DrVhcS7aUY3o",
        "outputId": "7dd9f646-33fb-4ab3-ae71-b6919387ef19"
      },
      "source": [
        "y_train.shape"
      ],
      "execution_count": null,
      "outputs": [
        {
          "output_type": "execute_result",
          "data": {
            "text/plain": [
              "(800, 5)"
            ]
          },
          "metadata": {
            "tags": []
          },
          "execution_count": 64
        }
      ]
    },
    {
      "cell_type": "code",
      "metadata": {
        "id": "hl6t2PRx5MqE"
      },
      "source": [
        "model = Sequential()\n",
        "input_shape =(128,44,1)\n",
        "\n",
        "model.add(Conv2D(24, (5,5), strides=(1,1), input_shape=input_shape))\n",
        "model.add(MaxPooling2D((4,2),strides=(4,2)))\n",
        "model.add(Activation('relu'))\n",
        "\n",
        "model.add(Conv2D(48, (5,5), padding='valid'))\n",
        "model.add(MaxPooling2D((4,2), strides=(4,2)))\n",
        "model.add(Activation('relu'))\n",
        "\n",
        "model.add(Conv2D(48, (5,5), padding='valid'))\n",
        "model.add(Activation('relu'))\n",
        "\n",
        "model.add(Flatten())\n",
        "model.add(Dropout(rate=0.5))\n",
        "\n",
        "model.add(Dense(44))\n",
        "model.add(Activation('relu'))\n",
        "model.add(Dropout(rate=0.5))\n",
        "\n",
        "model.add(Dense(5))\n",
        "model.add(Activation('softmax'))"
      ],
      "execution_count": null,
      "outputs": []
    },
    {
      "cell_type": "code",
      "metadata": {
        "colab": {
          "base_uri": "https://localhost:8080/"
        },
        "id": "QCz06BQMSTHT",
        "outputId": "fbde7b24-a9f1-4201-f438-f962516555cf"
      },
      "source": [
        "model.compile(\n",
        "    optimizer='Adam',\n",
        "    loss='categorical_crossentropy',\n",
        "    metrics=['accuracy'])\n",
        "\n",
        "model.fit(\n",
        "    x=x_train,\n",
        "    y=y_train,\n",
        "    epochs=12,\n",
        "    batch_size=5,\n",
        "    validation_data=(x_test,y_test))\n",
        "\n",
        "score = model.evaluate(\n",
        "    x=x_test,\n",
        "    y=y_test)\n",
        "\n",
        "print('Test loss:', score[0])\n",
        "print('Test accuracy:', score[1])"
      ],
      "execution_count": null,
      "outputs": [
        {
          "output_type": "stream",
          "text": [
            "Epoch 1/12\n",
            "160/160 [==============================] - 6s 33ms/step - loss: 0.3030 - accuracy: 0.8724 - val_loss: 0.3318 - val_accuracy: 0.9250\n",
            "Epoch 2/12\n",
            "160/160 [==============================] - 5s 31ms/step - loss: 0.3091 - accuracy: 0.9235 - val_loss: 0.2420 - val_accuracy: 0.9350\n",
            "Epoch 3/12\n",
            "160/160 [==============================] - 5s 31ms/step - loss: 0.2669 - accuracy: 0.9011 - val_loss: 0.2622 - val_accuracy: 0.9350\n",
            "Epoch 4/12\n",
            "160/160 [==============================] - 5s 31ms/step - loss: 0.1795 - accuracy: 0.9366 - val_loss: 0.6709 - val_accuracy: 0.8650\n",
            "Epoch 5/12\n",
            "160/160 [==============================] - 5s 31ms/step - loss: 0.4733 - accuracy: 0.9037 - val_loss: 0.2317 - val_accuracy: 0.9500\n",
            "Epoch 6/12\n",
            "160/160 [==============================] - 5s 30ms/step - loss: 0.2507 - accuracy: 0.9317 - val_loss: 0.2388 - val_accuracy: 0.9300\n",
            "Epoch 7/12\n",
            "160/160 [==============================] - 5s 31ms/step - loss: 0.1694 - accuracy: 0.9273 - val_loss: 0.2140 - val_accuracy: 0.9450\n",
            "Epoch 8/12\n",
            "160/160 [==============================] - 5s 30ms/step - loss: 0.5505 - accuracy: 0.9411 - val_loss: 0.3138 - val_accuracy: 0.9300\n",
            "Epoch 9/12\n",
            "160/160 [==============================] - 5s 30ms/step - loss: 0.1913 - accuracy: 0.9455 - val_loss: 0.2180 - val_accuracy: 0.9500\n",
            "Epoch 10/12\n",
            "160/160 [==============================] - 5s 30ms/step - loss: 0.1871 - accuracy: 0.9404 - val_loss: 0.1467 - val_accuracy: 0.9600\n",
            "Epoch 11/12\n",
            "160/160 [==============================] - 5s 30ms/step - loss: 0.1379 - accuracy: 0.9545 - val_loss: 0.3540 - val_accuracy: 0.9700\n",
            "Epoch 12/12\n",
            "160/160 [==============================] - 5s 30ms/step - loss: 0.1766 - accuracy: 0.9463 - val_loss: 0.2004 - val_accuracy: 0.9750\n",
            "7/7 [==============================] - 1s 33ms/step - loss: 0.2004 - accuracy: 0.9750\n",
            "Test loss: 0.20043277740478516\n",
            "Test accuracy: 0.9750000238418579\n"
          ],
          "name": "stdout"
        }
      ]
    }
  ]
}